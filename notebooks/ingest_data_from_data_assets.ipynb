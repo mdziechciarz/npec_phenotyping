{
 "cells": [
  {
   "cell_type": "code",
   "execution_count": null,
   "metadata": {},
   "outputs": [],
<<<<<<< Updated upstream
   "source": []
=======
   "source": [
    "from azureml.core import Workspace, Dataset\n",
    "\n",
    "# Load your Azure Machine Learning workspace\n",
    "ws = Workspace.from_config()\n",
    "\n",
    "# Get a reference to your datastore\n",
    "datastore = ws.get_default_datastore()\n",
    "\n",
    "# Define the path to your data file in the datastore\n",
    "datastore_path = [(datastore, 'path_to_your_data_file.csv')]\n",
    "\n",
    "# Register the dataset from the datastore\n",
    "dataset = Dataset.Tabular.from_delimited_files(path=datastore_path)\n",
    "\n",
    "# Register the dataset with a name\n",
    "dataset.register(workspace=ws, name='your_dataset_name', create_new_version=True)\n"
   ]
>>>>>>> Stashed changes
  }
 ],
 "metadata": {
  "kernelspec": {
   "display_name": "myenv2",
   "language": "python",
   "name": "python3"
  },
  "language_info": {
   "name": "python",
   "version": "3.11.3"
  }
 },
 "nbformat": 4,
 "nbformat_minor": 2
}
