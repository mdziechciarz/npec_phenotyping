{
 "cells": [
  {
   "cell_type": "code",
   "execution_count": 5,
   "metadata": {},
   "outputs": [
    {
     "ename": "",
     "evalue": "",
     "output_type": "error",
     "traceback": [
      "\u001b[1;31mThe Kernel crashed while executing code in the current cell or a previous cell. \n",
      "\u001b[1;31mPlease review the code in the cell(s) to identify a possible cause of the failure. \n",
      "\u001b[1;31mClick <a href='https://aka.ms/vscodeJupyterKernelCrash'>here</a> for more info. \n",
      "\u001b[1;31mView Jupyter <a href='command:jupyter.viewOutput'>log</a> for further details."
     ]
    }
   ],
   "source": [
    "# email_notification_test.ipynb\n",
    "import os\n",
    "from dotenv import load_dotenv\n",
    "from fastapi import FastAPI, HTTPException\n",
    "from fastapi_mail import FastMail, MessageSchema, ConnectionConfig\n",
    "import nest_asyncio\n",
    "import uvicorn\n",
    "\n",
    "# Load environment variables from .env file\n",
    "load_dotenv()\n",
    "\n",
    "# Email configuration\n",
    "conf = ConnectionConfig(\n",
    "    MAIL_USERNAME=os.getenv(\"MAIL_USERNAME\"),\n",
    "    MAIL_PASSWORD=os.getenv(\"MAIL_PASSWORD\"),\n",
    "    MAIL_FROM=os.getenv(\"MAIL_FROM\"),\n",
    "    MAIL_PORT=int(os.getenv(\"MAIL_PORT\")),\n",
    "    MAIL_SERVER=os.getenv(\"MAIL_SERVER\"),\n",
    "    MAIL_STARTTLS=os.getenv(\"MAIL_STARTTLS\") == 'True',\n",
    "    MAIL_SSL_TLS=os.getenv(\"MAIL_SSL_TLS\") == 'True',\n",
    "    USE_CREDENTIALS=True\n",
    ")\n",
    "\n",
    "app = FastAPI()\n",
    "\n",
    "@app.post(\"/send-notification/\")\n",
    "async def send_notification(message: str):\n",
    "    email_message = MessageSchema(\n",
    "        subject=\"Test Notification\",\n",
    "        recipients=[os.getenv(\"NOTIFICATION_EMAIL\")],\n",
    "        body=message,\n",
    "        subtype=\"plain\"\n",
    "    )\n",
    "    fm = FastMail(conf)\n",
    "    await fm.send_message(email_message)\n",
    "    return {\"message\": \"Notification sent successfully\"}\n"
   ]
  }
 ],
 "metadata": {
  "kernelspec": {
   "display_name": "Python 3",
   "language": "python",
   "name": "python3"
  },
  "language_info": {
   "codemirror_mode": {
    "name": "ipython",
    "version": 3
   },
   "file_extension": ".py",
   "mimetype": "text/x-python",
   "name": "python",
   "nbconvert_exporter": "python",
   "pygments_lexer": "ipython3",
   "version": "3.10.11"
  }
 },
 "nbformat": 4,
 "nbformat_minor": 2
}
